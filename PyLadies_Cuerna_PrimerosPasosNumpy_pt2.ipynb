{
  "nbformat": 4,
  "nbformat_minor": 0,
  "metadata": {
    "colab": {
      "provenance": []
    },
    "kernelspec": {
      "name": "python3",
      "display_name": "Python 3"
    },
    "language_info": {
      "name": "python"
    }
  },
  "cells": [
    {
      "cell_type": "markdown",
      "source": [
        "# Primeros pasos con Numpy (Parte 2)\n",
        "\n",
        "\n",
        "PyLadies Cuernavaca.\n"
      ],
      "metadata": {
        "id": "0DOcvlTpIKo9"
      }
    },
    {
      "cell_type": "markdown",
      "source": [
        "## Manipulación y transformación de arreglos en Numpy"
      ],
      "metadata": {
        "id": "OB5oFn8KIhXX"
      }
    },
    {
      "cell_type": "code",
      "source": [
        "#Importación de la librería Numpy\n",
        "import numpy as np"
      ],
      "metadata": {
        "id": "xwC8RPeDW9-G"
      },
      "execution_count": 39,
      "outputs": []
    },
    {
      "cell_type": "markdown",
      "source": [
        "### Atributos de arreglos\n",
        "\n",
        "Los atributos de los arreglos en Numpy nos proporcionan las características de un arreglo. A través de los atributos podemos conocer propiedades de los arreglos como su dimensión, el tipo de datos que almacena, la cantidad de elementos, entre otros.\n",
        "\n",
        "Los atributos más comunes de arreglos son los siguientes:\n",
        "\n",
        "```\n",
        "- ndarray.shape -> Devuelve una tupla que indica la dimensión del arreglo.\n",
        "- ndarray.ndim   -> Devuelve el número de ejes (axis) del arreglo.\n",
        "- ndarray.size  -> Devuelve el número total de elementos en un arreglo.\n",
        "- ndarray.dtype -> Devuelve el tipo de datos que contiene un arreglo.\n",
        "- ndarray.itemsize -> Devuelve el número de bytes de los elementos en un arreglo.\n",
        "- ndarray.T   -> Devuelve la transpuesta de un arreglo.\n",
        "```"
      ],
      "metadata": {
        "id": "a64M4U7-NkCs"
      }
    },
    {
      "cell_type": "code",
      "execution_count": null,
      "metadata": {
        "id": "08VlEthtHoyj"
      },
      "outputs": [],
      "source": [
        "# Ejemplo de la función '.shape'\n",
        "a = np.array([[1, 2, 3], [4, 5, 6]])\n",
        "print(f\"Dimensión del arreglo 'a': {a.shape}\")"
      ]
    },
    {
      "cell_type": "code",
      "source": [
        "# Ejemplo de la función '.ndim'\n",
        "a = np.array([1, 2, 3])\n",
        "print(f\"Cantidad de dimensiones del arreglo 'a': {a.ndim}\")\n",
        "\n",
        "b = np.array([[1, 2, 3], [4, 5, 6]])\n",
        "print(f\"Cantidad de dimensiones 'b': {b.ndim}\")"
      ],
      "metadata": {
        "id": "DLN-NvjRXTXH"
      },
      "execution_count": null,
      "outputs": []
    },
    {
      "cell_type": "code",
      "source": [
        "# Ejemplo de la función '.size'\n",
        "a = np.array([[1, 2, 3], [4, 5, 6]])\n",
        "print(f\"Cantidad de elementos del arreglo 'a': {a.size}\")"
      ],
      "metadata": {
        "id": "tQ4R79mZYNCj"
      },
      "execution_count": null,
      "outputs": []
    },
    {
      "cell_type": "code",
      "source": [
        "# Ejemplo de la función '.dtype'\n",
        "a = np.array([1, 2, 3])\n",
        "print(f\"Tipo de dato del arreglo 'a': {a.dtype}\")\n",
        "\n",
        "b = np.array([1.0, 2.0, 3.0])\n",
        "print(f\"Tipo de dato del arreglo 'b': {b.dtype}\")"
      ],
      "metadata": {
        "id": "RGdOiSdMYQxf"
      },
      "execution_count": null,
      "outputs": []
    },
    {
      "cell_type": "code",
      "source": [
        "# Ejemplo de la función '.itemsize'\n",
        "a = np.array([1, 2, 3])\n",
        "print(f\"Cantidad de bytes del arreglo 'a': {a.itemsize}\")  # Output: 8 (para int64)\n",
        "\n",
        "b = np.array([1.0, 2.0, 3.0])\n",
        "print(f\"Cantidad de bytes del arreglo 'b': {b.itemsize}\")  # Output: 8 (para float64)"
      ],
      "metadata": {
        "id": "GLCmgoaNY44d"
      },
      "execution_count": null,
      "outputs": []
    },
    {
      "cell_type": "code",
      "source": [
        "# Ejemplo de la función '.T'\n",
        "a = np.array([[1, 2, 3], [4, 5, 6]])\n",
        "print(f\"Arreglo original 'a':\\n {a}\")\n",
        "print(f\"Arreglo 'a' transpuesto:\\n {a.T}\")"
      ],
      "metadata": {
        "id": "NY7wBtikZBQZ"
      },
      "execution_count": null,
      "outputs": []
    },
    {
      "cell_type": "markdown",
      "source": [
        "### Modificación de la dimensión de los arreglos\n",
        "\n",
        "Numpy contiene funciones que permiten cambiar la forma y dimensionalidad de los arreglos sin cambiar el contenido. Las funciones más comunes son las siguientes:\n",
        "```\n",
        "- ndarray.reshape(new_shape)   -> Redimensiona la forma de un array, siempre que el número de elementos sea el mismo.\n",
        "- ndarray.flatten() -> Devuelve una copia del arreglo colapsada en una dimensión (un array unidimensional).\n",
        "- ndarray.ravel()   -> Colapsa el array en una dimensión y devuelve una vista, lo que significa que los cambios en el arreglo plano pueden afectar al arreglo original.\n",
        "```"
      ],
      "metadata": {
        "id": "L_Dte_ZS-gWO"
      }
    },
    {
      "cell_type": "code",
      "source": [
        "### Ejemplo de la función '.reshape()'\n",
        "# Crear un array de 9 elementos\n",
        "a = np.array([1, 2, 3, 4, 5, 6, 7, 8, 9])\n",
        "print(f\"Arreglo original 'a':\\n{a}\")\n",
        "\n",
        "# Cambiar la forma del array a 3x3\n",
        "b = a.reshape((3, 3))\n",
        "print(f\"Resultado del arreglo 'a' en 'b' con reshape:\\n{b}\")"
      ],
      "metadata": {
        "collapsed": true,
        "id": "l7zVjc5vCm_Z"
      },
      "execution_count": null,
      "outputs": []
    },
    {
      "cell_type": "code",
      "source": [
        "### Ejemplo de la función '.flatten()'\n",
        "# Crear un array 2x3\n",
        "a = np.array([[1, 2, 3], [4, 5, 6]])\n",
        "print(f\"Arreglo 'a' original:\\n{a}\")\n",
        "\n",
        "# Colapsar el array en una dimensión\n",
        "b = a.flatten()\n",
        "print(f\"Resultado del arreglo 'a' en 'b' del flatten:\\n{b}\")"
      ],
      "metadata": {
        "id": "4H8HqNrvCtHM"
      },
      "execution_count": null,
      "outputs": []
    },
    {
      "cell_type": "code",
      "source": [
        "### Ejemplo de la función '.ravel()'\n",
        "# Crear un array 2x3\n",
        "a = np.array([[1, 2, 3], [4, 5, 6]])\n",
        "print(f\"Arreglo original 'a':\\n{a}\")\n",
        "\n",
        "\n",
        "# Colapsar el array en una dimensión\n",
        "b = a.ravel()\n",
        "print(f\"Resultado del colapso del arreglo 'a' en 'b':\\n{b}\")\n",
        "\n",
        "\n",
        "# Modificar un elemento en 'b' afectará a 'a'\n",
        "b[0] = 99\n",
        "print(f\"Arreglo original 'a' modificado mediante arreglo 'b':\\n{a}\")\n",
        "print(f\"Arreglo 'b' modificado en el índice 0:\\n{b}\")"
      ],
      "metadata": {
        "id": "C7SYSkLMC08Q"
      },
      "execution_count": null,
      "outputs": []
    },
    {
      "cell_type": "markdown",
      "source": [
        "### Concatenación y apilamiento en arreglos\n",
        "Numpy proporciona funciones para la combinación de arreglos siempre y cuándo sean considerados correctamente los ejes (axis).\n",
        "\n",
        "![Ejes_de_arreglos](https://drive.google.com/uc?id=1OkSx1w8oabGmGnf5Sr2X_DnY1EmYfFCI)\n",
        "\n",
        "\n",
        "Las principales funciones para ello son las siguientes:\n",
        "```\n",
        "- ndarray.concatenate((array1, array2, ...), axis=0) -> Une diferentes arreglos a lo largo del eje indicado. El eje predeterminado es 0.\n",
        "- ndarray.vstack((array1, array2, ...)) -> Apila diferentes arreglos de manera vertical a lo largo del eje indicado. Es equivalente a np.concatenate() con axis=0, recomendado para arreglos 2D.\n",
        "- ndarray.hstack((array1, array2, ...)) -> Apila diferentes arreglos de manera horizontal a lo largo del eje indicado. Es equivalente a np.concatenate() con axis=1, recomendado para arreglos 2D.\n",
        "```"
      ],
      "metadata": {
        "id": "IjC6liuzDW0J"
      }
    },
    {
      "cell_type": "code",
      "source": [
        "### Ejemplo de la función '.concatenate()'\n",
        "a = np.array([[1, 2], [3, 4]])\n",
        "b = np.array([[5, 6]])\n",
        "print(f\"Arreglo 'a':\\n{a}\")\n",
        "print(f\"Arreglo 'b':\\n{b}\")\n",
        "# Concatenar a y b a lo largo del eje 0\n",
        "c = np.concatenate((a, b), axis=0)\n",
        "print(f\"Resultado de la concatenación del arreglo 'a' y 'b' en el eje 0:\\n{c}\")\n",
        "\n",
        "\n",
        "# Concatenar a y b a lo largo del eje 1\n",
        "d = np.concatenate((a, b.T), axis=1)  # Nota: b.T es la transposición de b\n",
        "print(f\"Resultado de la concatenación del arreglo 'a' y 'b' en el eje 1:\\n{d}\")"
      ],
      "metadata": {
        "id": "D2oJPon6Jo-q"
      },
      "execution_count": null,
      "outputs": []
    },
    {
      "cell_type": "code",
      "source": [
        "### Ejemplo de la función '.vstack()'\n",
        "a = np.array([1, 2, 3])\n",
        "b = np.array([4, 5, 6])\n",
        "print(f\"Arreglo 'a':\\n{a}\")\n",
        "print(f\"Arreglo 'b':\\n{b}\")\n",
        "# Apilar a y b verticalmente\n",
        "c = np.vstack((a, b))\n",
        "print(f\"Resultado del apilamiento vertical del arreglo 'a' y 'b':\\n{c}\")"
      ],
      "metadata": {
        "id": "mn6SR3nsJsg9"
      },
      "execution_count": null,
      "outputs": []
    },
    {
      "cell_type": "code",
      "source": [
        "### Ejemplo de la función '.hstack()'\n",
        "a = np.array([[1], [2], [3]])\n",
        "b = np.array([[4], [5], [6]])\n",
        "print(f\"Arreglo 'a':\\n{a}\")\n",
        "print(f\"Arreglo 'b':\\n{b}\")\n",
        "# Apilar a y b horizontalmente\n",
        "c = np.hstack((a, b))\n",
        "print(f\"Resultado del apilamiento horizontal del arreglo 'a' y 'b':\\n{c}\")"
      ],
      "metadata": {
        "id": "gmHNsr4PJvPO"
      },
      "execution_count": null,
      "outputs": []
    },
    {
      "cell_type": "markdown",
      "source": [
        "### División de arreglos\n",
        "Las funciones de división de arreglos en Numpy permiten dividir un arreglos en sub-arreglos. Las principales funciones son las siguientes:\n",
        "\n",
        "```\n",
        "\n",
        "Donde:\n",
        "  * 'array': El arreglo a dividir.\n",
        "  * 'indices_or_sections': Puede ser un entero o una lista de enteros que indiquen los índices donde se realizará la división.\n",
        "  * 'axis': El eje a lo largo del cual se dividirá el arreglo (el valor predeterminado es 0).\n",
        "\n",
        "- ndarray.split(array, indices_or_sections, axis=0) -> Divide un array en múltiples sub-arrays a lo largo de un eje especificado.\n",
        "\n",
        "- ndarray.hsplit(array, indices_or_sections) -> Divide un arreglo en múltiples sub-arreglos horizontalmente (a lo largo del eje 1). Es una forma conveniente de dividir arreglos 2D o más altos a lo largo de columnas.\n",
        "\n",
        "- ndarray.vsplit(array, indices_or_sections) -> Divide un arreglo en múltiples sub-arreglos verticalmente (a lo largo del eje 0). Es una forma conveniente de dividir arreglos 2D o más altos a lo largo de filas.\n",
        "\n",
        "\n",
        "\n",
        "```"
      ],
      "metadata": {
        "id": "KthubAixPckQ"
      }
    },
    {
      "cell_type": "code",
      "source": [
        "### Ejemplo de la función '.split()'\n",
        "a = np.arange(9).reshape(3, 3)\n",
        "print(\"Arreglo original 'a':\\n\", a)\n",
        "\n",
        "# Dividir el array en 3 sub-arrays iguales a lo largo del eje 0\n",
        "print(\"Division en 3 sub-arrays del arreglo 'a' sobre eje 0:\\n\")\n",
        "sub_arrays = np.split(a, 3, axis=0)\n",
        "for sub_array in sub_arrays:\n",
        "    print(sub_array)\n",
        "\n",
        "# Dividir el array en 2 sub-arrays en los índices 1 y 2 a lo largo del eje 1\n",
        "print(\"Division en 2 sub-arrays del arreglo 'a' sobre eje 1:\\n\")\n",
        "sub_arrays = np.split(a, [1, 2], axis=1)\n",
        "for sub_array in sub_arrays:\n",
        "    print(sub_array)"
      ],
      "metadata": {
        "id": "hRGCu_ayUJyJ"
      },
      "execution_count": null,
      "outputs": []
    },
    {
      "cell_type": "code",
      "source": [
        "### Ejemplo de la función '.hsplit()'\n",
        "a = np.arange(9).reshape(3, 3)\n",
        "print(\"Arreglo original:\\n\", a)\n",
        "\n",
        "# Dividir el array en 3 sub-arrays horizontales iguales\n",
        "print(\"\")\n",
        "sub_arrays = np.hsplit(a, 3)\n",
        "for sub_array in sub_arrays:\n",
        "    print(sub_array)"
      ],
      "metadata": {
        "id": "-OaLCKvaUPrC"
      },
      "execution_count": null,
      "outputs": []
    },
    {
      "cell_type": "code",
      "source": [
        "### Ejemplo de la función '.vsplit()'\n",
        "a = np.arange(9).reshape(3, 3)\n",
        "print(\"Original array:\\n\", a)\n",
        "\n",
        "# Dividir el array en 3 sub-arrays verticales iguales\n",
        "sub_arrays = np.vsplit(a, 3)\n",
        "for sub_array in sub_arrays:\n",
        "    print(sub_array)"
      ],
      "metadata": {
        "id": "-VtQFExfUTwi"
      },
      "execution_count": null,
      "outputs": []
    },
    {
      "cell_type": "markdown",
      "source": [
        "### Transposición y permutación de ejes en arreglos\n",
        "Numpy proporciona funciones para la reorganización de las dimensiones de los arreglos recomendadas para las operaciones de análisis y manipulación de arreglos. Las funciones principales son las siguientes:\n",
        "```\n",
        "- ndarray.transpose() -> Devuelve una vista del array original con sus ejes permutados.\n",
        "- ndarray.swapaxes() -> Intercambia dos ejes de un array. A diferencia de ndarray.transpose(), que puede reordenar todos los ejes, np.swapaxes() se usa para intercambiar únicamente dos ejes específicos.\n",
        "```"
      ],
      "metadata": {
        "id": "aU9MTmjcersH"
      }
    },
    {
      "cell_type": "code",
      "source": [
        "### Ejemplo de la función '.transpose()'\n",
        "# Crear un array 2D\n",
        "matrix = np.array([[1, 2, 3],\n",
        "                   [4, 5, 6]])\n",
        "\n",
        "# Transponer el array 2D\n",
        "transposed_matrix = np.transpose(matrix)\n",
        "\n",
        "print(\"Original Matrix:\\n\", matrix)\n",
        "print(\"Transposed Matrix:\\n\", transposed_matrix)"
      ],
      "metadata": {
        "id": "E76kFOK22UTg"
      },
      "execution_count": null,
      "outputs": []
    },
    {
      "cell_type": "code",
      "source": [
        "### Ejemplo de la función '.transpose()' para un array 3D\n",
        "tensor_3d = np.array([[[1, 2], [3, 4]],\n",
        "                      [[5, 6], [7, 8]]])\n",
        "\n",
        "# Transponer el array 3D (por defecto invierte los ejes)\n",
        "transposed_tensor_3d = np.transpose(tensor_3d)\n",
        "\n",
        "print(\"Original Tensor 3D:\\n\", tensor_3d)\n",
        "print(\"Transposed Tensor 3D:\\n\", transposed_tensor_3d)"
      ],
      "metadata": {
        "id": "0PQ2S4p-2pWa"
      },
      "execution_count": null,
      "outputs": []
    },
    {
      "cell_type": "code",
      "source": [
        "### Ejemplo de la función '.swapaxes()' para un array 3D\n",
        "# Crear un array 3D\n",
        "tensor_3d = np.array([[[1, 2], [3, 4]],\n",
        "                      [[5, 6], [7, 8]]])\n",
        "\n",
        "# Intercambiar los ejes 0 y 2\n",
        "swapped_tensor = np.swapaxes(tensor_3d, 0, 2)\n",
        "\n",
        "print(\"Original Tensor 3D:\\n\", tensor_3d)\n",
        "print(\"Swapped Tensor 3D:\\n\", swapped_tensor)"
      ],
      "metadata": {
        "id": "lqst3xQR2yU_"
      },
      "execution_count": null,
      "outputs": []
    },
    {
      "cell_type": "markdown",
      "source": [
        "## Operaciones lógicas y condicionales"
      ],
      "metadata": {
        "id": "T-c0hZ5xhIPD"
      }
    },
    {
      "cell_type": "markdown",
      "source": [
        "### Filtrado de arreglos usando condiciones\n",
        "Numpy proporciona técnicas muy poderosas para seleccionar elementos de un array que cumplen ciertas condiciones. A continuación, se describen las principales:\n",
        "```\n",
        "- ndarray.where(condition, [x, y]) -> Devuelve elementos seleccionados de un array basados en una condición.\n",
        "\n",
        "Donde:\n",
        "  * 'condition': Una condición que debe ser satisfecha.\n",
        "  * 'x', 'y': (opcional) Valores de retorno cuando la condición es True (x) o False (y).\n",
        "\n",
        "- Indexación booleana -> Permite seleccionar elementos de un arreglo basados en una condición booleana.\n",
        "\n",
        "```"
      ],
      "metadata": {
        "id": "Qq_3j7ywnXRz"
      }
    },
    {
      "cell_type": "code",
      "source": [
        "#Ejemplo 1: Selección de Elementos con la función '.where()'\n",
        "array = np.array([1, 2, 3, 4, 5])\n",
        "result = np.where(array > 3)\n",
        "\n",
        "print(\"Indices donde el array es mayor a 3:\", result)\n",
        "print(\"Elementos donde el array es mayor a 3:\", array[result])"
      ],
      "metadata": {
        "id": "XxNBd6OjhPlQ"
      },
      "execution_count": null,
      "outputs": []
    },
    {
      "cell_type": "code",
      "source": [
        "#Ejemplo 2: Transformación Condicional con la función '.where()'\n",
        "array = np.array([1, 2, 3, 4, 5])\n",
        "result = np.where(array > 3, array, -1)\n",
        "\n",
        "print(\"Array transformado:\", result)"
      ],
      "metadata": {
        "id": "WkmAUhcPk4c1"
      },
      "execution_count": null,
      "outputs": []
    },
    {
      "cell_type": "code",
      "source": [
        "#Ejemplo de selección de elementos por Indexación Booleana\n",
        "array = np.array([1, 2, 3, 4, 5])\n",
        "condition = array > 3\n",
        "result = array[condition]\n",
        "\n",
        "print(\"Array original:\", array)\n",
        "print(\"Condición booleana:\", condition)\n",
        "print(\"Elementos que cumplen la condición:\", result)"
      ],
      "metadata": {
        "id": "4cB7xh6GlLL1"
      },
      "execution_count": null,
      "outputs": []
    },
    {
      "cell_type": "markdown",
      "source": [
        "### Uso de funciones lógicas\n",
        "Numpy proporciona funciones específicas que se utilizan para evaluar condiciones en arreglos. Las funciones principales son las siguientes:\n",
        "\n",
        "```\n",
        "- ndarray.any(a, axis=None, out=None, keepdims=False) -> Devuelve True` si al menos un elemento cumple la condición.\n",
        "- ndarray.all(a, axis=None, out=None, keepdims=False) -> Devuelve True` si todos los elementos cumplen la condición.\n",
        "\n",
        "Donde:\n",
        "  * 'a': El arreglo de entrada.\n",
        "  * 'axis': (int, opcional). El eje a lo largo del cual se aplica la función. Si no se especifica, se evalúan todos los elementos.\n",
        "  * 'out': (ndarray, opcional). Un arreglo donde se almacenará el resultado.\n",
        "  * 'keepdims': (bool, opcional). Si es True (predeterminado), se mantienen las dimensiones de salida.\n",
        "\n",
        "```"
      ],
      "metadata": {
        "id": "ii2GH5rhnpjH"
      }
    },
    {
      "cell_type": "code",
      "source": [
        "### Ejemplo con la función '.any()'\n",
        "array = np.array([1, 2, 3, 4, 5])\n",
        "condition = array > 3  # Condición booleana: elementos mayores que 3\n",
        "result_any = np.any(condition)\n",
        "\n",
        "print(\"Array:\", array)\n",
        "print(\"Condición (elementos > 3):\", condition)\n",
        "print(\"¿Algún elemento es mayor que 3?:\", result_any)"
      ],
      "metadata": {
        "id": "KOsPlQy3pe8A"
      },
      "execution_count": null,
      "outputs": []
    },
    {
      "cell_type": "code",
      "source": [
        "# Ejemplo con np.any() y Eje\n",
        "array = np.array([[1, 2, 3], [4, 5, 6], [0, -1, -2]])\n",
        "condition = array > 0\n",
        "result_any_axis_0 = np.any(condition, axis=0)\n",
        "result_any_axis_1 = np.any(condition, axis=1)\n",
        "\n",
        "print(\"Array:\\n\", array)\n",
        "print(\"Condición (elementos > 0):\\n\", condition)\n",
        "print(\"¿Algún elemento es mayor que 0 a lo largo del eje 0?:\", result_any_axis_0)\n",
        "print(\"¿Algún elemento es mayor que 0 a lo largo del eje 1?:\", result_any_axis_1)"
      ],
      "metadata": {
        "id": "zrJVLDiypoT5"
      },
      "execution_count": null,
      "outputs": []
    },
    {
      "cell_type": "code",
      "source": [
        "### Ejemplo con la función '.all()'\n",
        "condition = array > 0  # Condición booleana: elementos mayores que 0\n",
        "result_all = np.all(condition)\n",
        "\n",
        "print(\"Array:\", array)\n",
        "print(\"Condición (elementos > 0):\", condition)\n",
        "print(\"¿Todos los elementos son mayores que 0?:\", result_all)"
      ],
      "metadata": {
        "id": "rdUEP_rDpi14"
      },
      "execution_count": null,
      "outputs": []
    },
    {
      "cell_type": "code",
      "source": [
        "### Ejemplo con la función '.all()' y ejes\n",
        "condition = array > -1\n",
        "result_all_axis_0 = np.all(condition, axis=0)\n",
        "result_all_axis_1 = np.all(condition, axis=1)\n",
        "\n",
        "print(\"Array:\\n\", array)\n",
        "print(\"Condición (elementos > -1):\\n\", condition)\n",
        "print(\"¿Todos los elementos son mayores que -1 a lo largo del eje 0?:\", result_all_axis_0)\n",
        "print(\"¿Todos los elementos son mayores que -1 a lo largo del eje 1?:\", result_all_axis_1)"
      ],
      "metadata": {
        "id": "m5V0gc78py5v"
      },
      "execution_count": null,
      "outputs": []
    },
    {
      "cell_type": "markdown",
      "source": [
        "## Operaciones avanzadas con arreglos en Numpy"
      ],
      "metadata": {
        "id": "3Gta0olPJe_4"
      }
    },
    {
      "cell_type": "markdown",
      "source": [
        "### Broadcasting\n",
        "El broadcasting es una característica que permite realizar operaciones aritméticas entre arreglos de diferentes formas (shapes).\n",
        "\n",
        "Las reglas para determinar la compatibilidad son las siguientes:\n",
        "\n",
        "* Si los arrays no tienen el mismo número de dimensiones, se añade una dimensión adicional al array con menos dimensiones hasta que coincidan.\n",
        "* Los arrays son compatibles si, en todas las dimensiones, el tamaño es el mismo o uno de ellos es 1.\n",
        "* El array con tamaño 1 en una dimensión se comporta como si se extendiera a coincidir con el tamaño del otro array en esa dimensión."
      ],
      "metadata": {
        "id": "x2OMJ-EQEtT0"
      }
    },
    {
      "cell_type": "code",
      "source": [
        "### Ejemplo de la sumar un escalar a un array mediante broadcasting\n",
        "arr = np.array([1, 2, 3])\n",
        "scalar = 2\n",
        "result = arr + scalar\n",
        "print(f\"Arreglo original:\\n{arr}\")\n",
        "print(f\"Resultado de la suma de una escalar al arreglo con broadcasting:\\n{result}\")"
      ],
      "metadata": {
        "id": "_EAbO--aG4sN"
      },
      "execution_count": null,
      "outputs": []
    },
    {
      "cell_type": "code",
      "source": [
        "### Ejemplo de la suma de arrays de dimensiones diferentes mediante broadcasting\n",
        "arr1 = np.array([[1, 2, 3], [4, 5, 6]])\n",
        "arr2 = np.array([1, 2, 3])\n",
        "print(f\"Arreglo 1:\\n{arr1}\")\n",
        "print(f\"Arreglo 2:\\n{arr2}\")\n",
        "result = arr1 + arr2\n",
        "print(f\"Resultado de la suma de los arreglos con broadcasting:\\n{result}\")"
      ],
      "metadata": {
        "id": "D3l852wZIIPB"
      },
      "execution_count": null,
      "outputs": []
    },
    {
      "cell_type": "code",
      "source": [
        "### Ejemplo de la suma de array de 3D con un array de 1D mediante broadcasting\n",
        "arr1 = np.array([[[1, 2, 3], [4, 5, 6]], [[7, 8, 9], [10, 11, 12]]])\n",
        "arr2 = np.array([1, 2, 3])\n",
        "print(f\"Arreglo 1:\\n{arr1}\")\n",
        "print(f\"Arreglo 2:\\n{arr2}\")\n",
        "result = arr1 + arr2\n",
        "print(f\"Resultado de la suma de los arreglos con broadcasting:\\n{result}\")"
      ],
      "metadata": {
        "id": "OEOTAHqYKqsL"
      },
      "execution_count": null,
      "outputs": []
    },
    {
      "cell_type": "code",
      "source": [
        "### Ejemplo de la multiplicación de arrays de dimensiones diferentes mediante broadcasting\n",
        "arr1 = np.array([[1, 2, 3], [4, 5, 6]])\n",
        "arr2 = np.array([1, 2, 3])\n",
        "print(f\"Arreglo 1:\\n{arr1}\")\n",
        "print(f\"Arreglo 2:\\n{arr2}\")\n",
        "result = arr1 * arr2\n",
        "print(f\"Resultado de la multiplicación de los arreglos con broadcasting:\\n{result}\")"
      ],
      "metadata": {
        "id": "eiHNIApjJsu1"
      },
      "execution_count": null,
      "outputs": []
    },
    {
      "cell_type": "markdown",
      "source": [
        "### Funciones estadísticas\n",
        "Las funciones estadísticas en NumPy proporcionan métodos eficientes para calcular diferentes medidas estadísticas básicas de arreglos numéricos. Las funciones principales son las siguientes:\n",
        "```\n",
        "- np.mean(ndarray)  -> Calcula la media aritmética a lo largo del eje especificado.\n",
        "- np.median(ndarray) -> Calcula la mediana a lo largo del eje especificado.\n",
        "- np.std()  -> Calcula la desviación estándar a lo largo del eje especificado.\n",
        "- np.var()  -> Calcula la varianza a lo largo del eje especificado.\n",
        "- np.min()  -> Calcula el valor mínimo a lo largo del eje especificado.\n",
        "- np.max()  -> Calcula el valor máximo a lo largo del eje especificado.\n",
        "```"
      ],
      "metadata": {
        "id": "-OVstNGP6hGo"
      }
    },
    {
      "cell_type": "code",
      "source": [
        "### Ejemplo con la función '.mean()'\n",
        "arr = np.array([[1, 2, 3],\n",
        "                [4, 5, 6]])\n",
        "\n",
        "print(f\"Arreglo original:\\n{arr}\")\n",
        "print(f\"Cálculo de la media de todos los elementos:\\n{np.mean(arr)}\")  # Media de todos los elementos\n",
        "print(f\"Cálculo de la media a lo largo de las columnas:\\n{np.mean(arr, axis=0)}\")  # Media a lo largo de las columnas\n",
        "print(f\"Cálculo de la media a lo largo de las filas:\\n{np.mean(arr, axis=1)}\")  # Media a lo largo de las filas"
      ],
      "metadata": {
        "id": "2fP-CpTp7kzW"
      },
      "execution_count": null,
      "outputs": []
    },
    {
      "cell_type": "code",
      "source": [
        "### Ejemplo con la función '.median()'\n",
        "arr = np.array([[1, 2, 3],\n",
        "                [4, 5, 6]])\n",
        "print(f\"Arreglo original:\\n{arr}\")\n",
        "print(f\"Cálculo de la mediana de todos los elementos:\\n{np.median(arr)}\")  # Mediana de todos los elementos\n",
        "print(f\"Cálculo de la mediana a lo largo de las columnas:\\n{np.median(arr, axis=0)}\")  # Mediana a lo largo de las columnas\n",
        "print(f\"Cálculo de la mediana a lo largo de las filas:\\n{np.median(arr, axis=1)}\")  # Mediana a lo largo de las filas"
      ],
      "metadata": {
        "id": "nNVQRO1e7vHv"
      },
      "execution_count": null,
      "outputs": []
    },
    {
      "cell_type": "code",
      "source": [
        "### Ejemplo con la función '.std()'\n",
        "arr = np.array([[1, 2, 3],\n",
        "                [4, 5, 6]])\n",
        "print(f\"Arreglo original:\\n{arr}\")\n",
        "print(f\"Cálculo de la desviación estándar de todos los elementos:\\n{np.std(arr)}\")  # Desviación estándar de todos los elementos\n",
        "print(f\"Cálculo de la desviación estándar a lo largo de las columnas:\\n{np.std(arr, axis=0)}\")  # Desviación estándar a lo largo de las columnas\n",
        "print(f\"Cálculo de la desviación estándar a lo largo de las filas:\\n{np.std(arr, axis=1)}\")  # Desviación estándar a lo largo de las filas"
      ],
      "metadata": {
        "id": "tsaHGUAa71Pa"
      },
      "execution_count": null,
      "outputs": []
    },
    {
      "cell_type": "code",
      "source": [
        "### Ejemplo con la función '.var()'\n",
        "arr = np.array([[1, 2, 3],\n",
        "                [4, 5, 6]])\n",
        "\n",
        "print(np.var(arr))  # Varianza de todos los elementos\n",
        "print(np.var(arr, axis=0))  # Varianza a lo largo de las columnas\n",
        "print(np.var(arr, axis=1))  # Varianza a lo largo de las filas"
      ],
      "metadata": {
        "id": "Tpkkn3Dv7-5l"
      },
      "execution_count": null,
      "outputs": []
    },
    {
      "cell_type": "code",
      "source": [
        "### Ejemplo con la función '.min()'\n",
        "arr = np.array([[1, 2, 3],\n",
        "                [4, 5, 6]])\n",
        "\n",
        "print(np.min(arr))  # Valor mínimo de todos los elementos\n",
        "print(np.min(arr, axis=0))  # Valor mínimo a lo largo de las columnas\n",
        "print(np.min(arr, axis=1))  # Valor mínimo a lo largo de las filas"
      ],
      "metadata": {
        "id": "TbOiFm3Y8O0Q"
      },
      "execution_count": null,
      "outputs": []
    },
    {
      "cell_type": "code",
      "source": [
        "### Ejemplo con la función '.max()'\n",
        "arr = np.array([[1, 2, 3],\n",
        "                [4, 5, 6]])\n",
        "\n",
        "print(np.max(arr))  # Valor máximo de todos los elementos\n",
        "print(np.max(arr, axis=0))  # Valor máximo a lo largo de las columnas\n",
        "print(np.max(arr, axis=1))  # Valor máximo a lo largo de las filas\n"
      ],
      "metadata": {
        "id": "Xt-H2GJL8bBw"
      },
      "execution_count": null,
      "outputs": []
    },
    {
      "cell_type": "markdown",
      "source": [
        "### Operaciones matriciales\n",
        "En Numpy existen funciones especializadas en las operaciones matriciales y de producto tensorial. Las principales funciones son las siguientes:\n",
        "```\n",
        "- ndarray.dot() -> Calcula el producto punto entre dos arreglos. Para matrices bidimensionales, realiza el producto matricial estándar; para matrices unidimensionales, calcula el producto escalar.\n",
        "- ndarray.matmul() -> Realiza multiplicación de matrices, pero difiere de np.dot() en cómo maneja los operandos de dimensiones mayores a 2. Recomendado para arreglos de dimensiones mayores a 2 para mantener la claridad y evitar ambigüedades.\n",
        "- ndarray.tensordot() -> Calcula el producto tensorial de dos arreflos. Recomendado especialmente en el contexto de tensores multidimensionales.\n",
        "```"
      ],
      "metadata": {
        "id": "UFbxFa7Gt6CX"
      }
    },
    {
      "cell_type": "code",
      "source": [
        "### Ejemplo con la función '.dot()'\n",
        "A = np.array([[1, 2], [3, 4]])\n",
        "B = np.array([[5, 6], [7, 8]])\n",
        "\n",
        "C = np.dot(A, B)\n",
        "print(C)"
      ],
      "metadata": {
        "id": "6kOLNu-OJmO7"
      },
      "execution_count": null,
      "outputs": []
    },
    {
      "cell_type": "code",
      "source": [
        "### Ejemplo con la función '.matmul()'\n",
        "A = np.array([[1, 2], [3, 4]])\n",
        "B = np.array([[5, 6], [7, 8]])\n",
        "\n",
        "C = np.matmul(A, B)\n",
        "print(C)"
      ],
      "metadata": {
        "id": "3eOO0ss2yS8l"
      },
      "execution_count": null,
      "outputs": []
    },
    {
      "cell_type": "code",
      "source": [
        "### Ejemplo con la función '.tensordot()'\n",
        "A = np.array([1, 2, 3])\n",
        "B = np.array([4, 5, 6])\n",
        "\n",
        "C = np.tensordot(A, B, axes=0)  # Producto tensorial de vectores\n",
        "print(C)"
      ],
      "metadata": {
        "id": "z2ZAkeUxyWGO"
      },
      "execution_count": null,
      "outputs": []
    },
    {
      "cell_type": "markdown",
      "source": [
        "## Manejo de archivos en Numpy"
      ],
      "metadata": {
        "id": "Bp8sBksSC3b1"
      }
    },
    {
      "cell_type": "markdown",
      "source": [
        "Numpy cuenta con funciones para cargar y guardar arreglos desde/hacia archivos extrernos. Estas funciones son fundamentales cuando trabajas con grandes volúmenes de datos y necesitas guardar los resultados intermedios o finales de tu procesamiento para reutilizarlos más adelante.\n",
        "Las principales funciones, son las siguientes:\n",
        "```\n",
        "- np.save() -> Se utiliza para guardar un array en un archivo binario con extensión \".npy\".\n",
        "- np.load() -> Se utiliza para cargar un array desde un archivo binario \".npy\".\n",
        "- np.savetxt() -> Se utiliza para guardar un array en un archivo de texto, como un .txt o .csv. Los datos se guardan en formato de texto plano.\n",
        "- np.loadtxt() -> Se utiliza para cargar datos desde un archivo de texto en un array de NumPy.\n",
        "```"
      ],
      "metadata": {
        "id": "jqeobtXOMUkF"
      }
    },
    {
      "cell_type": "code",
      "source": [
        "# Ejemplo del uso de la función np.save()\n",
        "\n",
        "# Crear un array\n",
        "array = np.array([1, 2, 3, 4, 5, 6 , 7])\n",
        "\n",
        "# Guardar el array en un archivo binario\n",
        "np.save('mi_arreglo.npy', array)"
      ],
      "metadata": {
        "id": "BFRK4we_yZsH"
      },
      "execution_count": null,
      "outputs": []
    },
    {
      "cell_type": "code",
      "source": [
        "# Ejemplo del uso de la función np.load()\n",
        "\n",
        "# Cargar el array desde el archivo binario\n",
        "array_almacenado = np.load('mi_arreglo.npy')\n",
        "print(array_almacenado)"
      ],
      "metadata": {
        "id": "LbZVZvG1RMm_"
      },
      "execution_count": null,
      "outputs": []
    },
    {
      "cell_type": "code",
      "source": [
        "# Ejemplo del uso de la función np.savetxt()\n",
        "\n",
        "# Crear un array 2D\n",
        "array_2d = np.array([[1, 2, 3], [4, 5, 6], [7, 7, 7]])\n",
        "\n",
        "# Guardar el array en un archivo de texto\n",
        "np.savetxt('mi_arreglo_2d.txt', array_2d, delimiter=',')"
      ],
      "metadata": {
        "id": "wb1R_FxKR92b"
      },
      "execution_count": null,
      "outputs": []
    },
    {
      "cell_type": "code",
      "source": [
        "# Ejemplo del uso de la función np.loadtxt()\n",
        "\n",
        "# Cargar los datos desde el archivo de texto\n",
        "array_2d_almacenado = np.loadtxt('mi_arreglo_2d.txt', delimiter=',')\n",
        "\n",
        "print(array_2d_almacenado)"
      ],
      "metadata": {
        "id": "HlsO_2qiTFr1"
      },
      "execution_count": null,
      "outputs": []
    },
    {
      "cell_type": "markdown",
      "source": [
        "# Manejo de archivos con Python"
      ],
      "metadata": {
        "id": "c4xuICPuV8wj"
      }
    },
    {
      "cell_type": "markdown",
      "source": [
        "El manejo de archivos es fundamental para leer y escribir datos en el sistema de archivos. Python provee funciones y métodos para la manipulación de archivos de manera sencilla.\n",
        "```\n",
        "- open('my_file.txt', 'modo') -> Para leer o escribir un archivo, primero se debe abrir usando esta función.\n",
        "\n",
        "  Modos de apertura:\n",
        "*   'r': Leer (read) - Es el modo predeterminado. El archivo debe existir.\n",
        "*   'w': Escribir (write) - Crea un archivo nuevo o sobreescribe el existente.\n",
        "*   'a': Añadir (append) - Agrega contenido al final del archivo sin sobrescribir.\n",
        "*   'b': Modo binario - Se utiliza para archivos no de texto (e.g., imágenes).\n",
        "*   'r+': Leer y escribir.\n",
        "\n",
        "- my_file.read() -> Lee todo el contenido de un archivo.\n",
        "- my_file.readline() -> Lee una línea a la vez del archivo.\n",
        "- my_file.readlines() -> Lee todas las líneas de un archivo y devuelve cada un almacenada en una lista.\n",
        "- my_file.write('texto_a_escribir') ->  Función para escribir en un archivo independientemente del modo de escritura.\n",
        "- my_file.close() -> Función para cerrar un archivo al terminar su manipulación como buena práctica para liberar los recursos.\n",
        "```\n",
        "\n",
        "Existen métodos recomendados como buenas prácticas para el manejo de archivos como los siguientes:\n",
        "\n",
        "\n",
        "```\n",
        "- El uso del bloque 'with' es una práctica recomendada, ya que se cierra el archivo automáticamente después de salir del bloque.\n",
        "    Sintaxis:\n",
        "\n",
        "    with open('my_file.txt', 'mode') as var_name_file:\n",
        "\n",
        "- Es posible el manejo de posibles errores al abrir/cerrar un archivo usando bloques 'try-except'.\n",
        "    Sintaxis:\n",
        "\n",
        "    try:\n",
        "      #Codigo para abrir un archivo\n",
        "    except FileNotFoundError:\n",
        "      print(\"El archivo no fue encontrado.\")\n",
        "```"
      ],
      "metadata": {
        "id": "aNUa-0UDXNuX"
      }
    },
    {
      "cell_type": "markdown",
      "source": [
        "# Análisis de datos con Numpy"
      ],
      "metadata": {
        "id": "FxQzpwMhVED4"
      }
    },
    {
      "cell_type": "markdown",
      "source": [
        "Para los siguiente ejemplo utilizaremos un archivo FASTA con 91,763 secuencias con longitudes cortas. Con este archivo y utilizando algunas de las funcines básicas de Python podremos extraer información como la longitud mínima, máxima de las secuencias. Además podremos calcular medidas de sus longitudes."
      ],
      "metadata": {
        "id": "d2-v5tpH04Qm"
      }
    },
    {
      "cell_type": "code",
      "source": [
        "# Ejemplo de cómo abrir un archivo FASTA con el bloque 'with'\n",
        "with open (\"/content/sequences.fasta\", \"r\") as fasta:\n",
        "  for line in fasta:\n",
        "    line = line.strip(\"\\n\")\n",
        "    print(line)\n",
        "\n",
        "fasta.close()"
      ],
      "metadata": {
        "id": "FKQ3T3XGTojw"
      },
      "execution_count": null,
      "outputs": []
    },
    {
      "cell_type": "code",
      "source": [
        "# Contabilizar la cantidad de secuencias y almacenar la longitud de cada una en un arreglo Numpy\n",
        "#Define lista para almacenar los ID de las secuencias\n",
        "#Define lista para almacenar las secuencias\n",
        "#Define lista para almacenar las longitudes de las secuencias\n",
        "ids_list, seq_list, len_list = [[] for _ in range(3)]\n",
        "\n",
        "with open (\"/content/sequences.fasta\", \"r\") as fasta:\n",
        "  for line in fasta:\n",
        "    #Eliminar el retirno de carro\n",
        "    line = line.strip(\"\\n\")\n",
        "    #Identificar si es el ID o la secuencia\n",
        "    if :\n",
        "      #Eliminar el simbolo > del ID\n",
        "    else:\n",
        "      #Calcular la longitud de la secuencia\n",
        "      longitud =\n",
        "      #Almacenar la secuencia en la lista\n",
        "      seq_list.\n",
        "      #Almacenar la longitudes en la lista\n",
        "      len_list.\n",
        "\n",
        "fasta.close()"
      ],
      "metadata": {
        "id": "3JZL2xda017L"
      },
      "execution_count": 41,
      "outputs": []
    },
    {
      "cell_type": "code",
      "source": [
        "#Imprimir los primeros 10 elementos de cada lista\n",
        "print(f\"Primeros 10 elementos en ids_list: {ids_list}\\n\")\n",
        "print(f\"Primeros 10 elementos en seq_list: {seq_list}\\n\")\n",
        "print(f\"Primeros 10 elementos en len_list: {len_list}\")"
      ],
      "metadata": {
        "id": "NEggPKfL36HG"
      },
      "execution_count": null,
      "outputs": []
    },
    {
      "cell_type": "code",
      "source": [
        "#Conversion de la lista de longitudes a arreglo Numpy\n",
        "len_array = np.array(len_list)\n",
        "#Mostrar arreglo\n",
        "print(len_array)\n",
        "print(type(len_array))"
      ],
      "metadata": {
        "id": "s5p709Oi42Ls"
      },
      "execution_count": null,
      "outputs": []
    },
    {
      "cell_type": "code",
      "source": [
        "print(f\"Cálculo de la media de todos los elementos:\\n{}\\n\")\n",
        "print(f\"Cálculo de la mediana de todos los elementos:\\n{}\\n\")\n",
        "print(f\"Cálculo de la desviación estándar de todos los elementos:\\n{}\\n\")\n",
        "print(f\"Cálculo de la longitud mínima de todos los elementos:\\n{}\\n\")\n",
        "print(f\"Cálculo de la longitud máxima de todos los elementos:\\n{}\\n\")"
      ],
      "metadata": {
        "id": "6H4gMHox6-W2"
      },
      "execution_count": null,
      "outputs": []
    },
    {
      "cell_type": "markdown",
      "source": [
        "Podemos visualizar los datos de longitudes de las secuencias en un gráfico de distribucion y densidad como con los ViolinPlot con el uso de otras liobrerías de graficación como Matplotlib y Seaborn."
      ],
      "metadata": {
        "id": "hmE-5vwc88BT"
      }
    },
    {
      "cell_type": "code",
      "source": [
        "import seaborn as sns\n",
        "import matplotlib.pyplot as plt\n",
        "\n",
        "plot = sns.violinplot(data=len_array, saturation=0.8, palette=\"Set1\")\n",
        "plot.set_xticklabels(ax.get_xticklabels(), rotation=90, ha=\"right\")\n",
        "plot.grid(True)\n",
        "plt.ylabel(\"Longitudes de secuenicas\", fontsize=11)\n",
        "plt.tight_layout()\n",
        "plt.show()"
      ],
      "metadata": {
        "id": "zs-3WFCe9Jbv"
      },
      "execution_count": null,
      "outputs": []
    },
    {
      "cell_type": "markdown",
      "source": [
        "Otros ejercicios"
      ],
      "metadata": {
        "id": "2fpIQfOG8IDw"
      }
    },
    {
      "cell_type": "code",
      "source": [
        "# Crear una matriz de expresión génica simulada\n",
        "import numpy as np\n",
        "genes = np.array(['Gene1', 'Gene2', 'Gene3', 'Gene4'])\n",
        "samples = np.array(['Sample1', 'Sample2', 'Sample3'])\n",
        "\n",
        "# Datos de expresión (genes x muestras)\n",
        "expression_data = np.array([\n",
        "    [0.5, 2.3, 1.2],\n",
        "    [1.5, 3.3, 2.2],\n",
        "    [0.1, 0.3, 0.8],\n",
        "    [2.2, 1.2, 4.1]\n",
        "])\n",
        "\n",
        "# Calcular la expresión media de cada gen\n",
        "mean_expression = np.mean(expression_data, axis=1)\n",
        "\n",
        "# Asociar los genes con su expresión media\n",
        "gene_expression = dict(zip(genes, mean_expression))\n",
        "\n",
        "print(\"Expresión media por gen:\")\n",
        "for gene, expr in gene_expression.items():\n",
        "    print(f\"{gene}: {expr}\")\n"
      ],
      "metadata": {
        "colab": {
          "base_uri": "https://localhost:8080/"
        },
        "id": "Tv4iot9SVa9I",
        "outputId": "75d599a1-e834-4e65-946c-71e4f40c890a"
      },
      "execution_count": 17,
      "outputs": [
        {
          "output_type": "stream",
          "name": "stdout",
          "text": [
            "Expresión media por gen:\n",
            "Gene1: 1.3333333333333333\n",
            "Gene2: 2.3333333333333335\n",
            "Gene3: 0.4000000000000001\n",
            "Gene4: 2.5\n"
          ]
        }
      ]
    },
    {
      "cell_type": "code",
      "source": [
        "import numpy as np\n",
        "\n",
        "# Leer el archivo de datos de expresión génica\n",
        "filename = 'gene_expression_data.txt'\n",
        "\n",
        "# Cargar los datos ignorando la primera fila (cabeceras) y la primera columna (nombres de genes)\n",
        "data = np.loadtxt(filename, delimiter='\\t', skiprows=1, usecols=(1, 2, 3))\n",
        "\n",
        "# Calcular la expresión media de cada gen\n",
        "mean_expression = np.mean(data, axis=1)\n",
        "\n",
        "# Cargar los nombres de los genes (primera columna)\n",
        "genes = np.loadtxt(filename, delimiter='\\t', skiprows=1, usecols=(0,), dtype=str)\n",
        "\n",
        "# Asociar los genes con su expresión media\n",
        "gene_expression = dict(zip(genes, mean_expression))\n",
        "\n",
        "# Mostrar los resultados\n",
        "print(\"Expresión media por gen:\")\n",
        "for gene, expr in gene_expression.items():\n",
        "    print(f\"{gene}: {expr:.2f}\")\n"
      ],
      "metadata": {
        "colab": {
          "base_uri": "https://localhost:8080/",
          "height": 472
        },
        "id": "Rk7wGSeuWTRZ",
        "outputId": "0882f8e7-3ab2-4d93-ccd5-9dc22db0b13c"
      },
      "execution_count": 18,
      "outputs": [
        {
          "output_type": "error",
          "ename": "FileNotFoundError",
          "evalue": "gene_expression_data.txt not found.",
          "traceback": [
            "\u001b[0;31m---------------------------------------------------------------------------\u001b[0m",
            "\u001b[0;31mFileNotFoundError\u001b[0m                         Traceback (most recent call last)",
            "\u001b[0;32m<ipython-input-18-63ee25e44a1f>\u001b[0m in \u001b[0;36m<cell line: 7>\u001b[0;34m()\u001b[0m\n\u001b[1;32m      5\u001b[0m \u001b[0;34m\u001b[0m\u001b[0m\n\u001b[1;32m      6\u001b[0m \u001b[0;31m# Cargar los datos ignorando la primera fila (cabeceras) y la primera columna (nombres de genes)\u001b[0m\u001b[0;34m\u001b[0m\u001b[0;34m\u001b[0m\u001b[0m\n\u001b[0;32m----> 7\u001b[0;31m \u001b[0mdata\u001b[0m \u001b[0;34m=\u001b[0m \u001b[0mnp\u001b[0m\u001b[0;34m.\u001b[0m\u001b[0mloadtxt\u001b[0m\u001b[0;34m(\u001b[0m\u001b[0mfilename\u001b[0m\u001b[0;34m,\u001b[0m \u001b[0mdelimiter\u001b[0m\u001b[0;34m=\u001b[0m\u001b[0;34m'\\t'\u001b[0m\u001b[0;34m,\u001b[0m \u001b[0mskiprows\u001b[0m\u001b[0;34m=\u001b[0m\u001b[0;36m1\u001b[0m\u001b[0;34m,\u001b[0m \u001b[0musecols\u001b[0m\u001b[0;34m=\u001b[0m\u001b[0;34m(\u001b[0m\u001b[0;36m1\u001b[0m\u001b[0;34m,\u001b[0m \u001b[0;36m2\u001b[0m\u001b[0;34m,\u001b[0m \u001b[0;36m3\u001b[0m\u001b[0;34m)\u001b[0m\u001b[0;34m)\u001b[0m\u001b[0;34m\u001b[0m\u001b[0;34m\u001b[0m\u001b[0m\n\u001b[0m\u001b[1;32m      8\u001b[0m \u001b[0;34m\u001b[0m\u001b[0m\n\u001b[1;32m      9\u001b[0m \u001b[0;31m# Calcular la expresión media de cada gen\u001b[0m\u001b[0;34m\u001b[0m\u001b[0;34m\u001b[0m\u001b[0m\n",
            "\u001b[0;32m/usr/local/lib/python3.10/dist-packages/numpy/lib/npyio.py\u001b[0m in \u001b[0;36mloadtxt\u001b[0;34m(fname, dtype, comments, delimiter, converters, skiprows, usecols, unpack, ndmin, encoding, max_rows, quotechar, like)\u001b[0m\n\u001b[1;32m   1371\u001b[0m         \u001b[0mdelimiter\u001b[0m \u001b[0;34m=\u001b[0m \u001b[0mdelimiter\u001b[0m\u001b[0;34m.\u001b[0m\u001b[0mdecode\u001b[0m\u001b[0;34m(\u001b[0m\u001b[0;34m'latin1'\u001b[0m\u001b[0;34m)\u001b[0m\u001b[0;34m\u001b[0m\u001b[0;34m\u001b[0m\u001b[0m\n\u001b[1;32m   1372\u001b[0m \u001b[0;34m\u001b[0m\u001b[0m\n\u001b[0;32m-> 1373\u001b[0;31m     arr = _read(fname, dtype=dtype, comment=comment, delimiter=delimiter,\n\u001b[0m\u001b[1;32m   1374\u001b[0m                 \u001b[0mconverters\u001b[0m\u001b[0;34m=\u001b[0m\u001b[0mconverters\u001b[0m\u001b[0;34m,\u001b[0m \u001b[0mskiplines\u001b[0m\u001b[0;34m=\u001b[0m\u001b[0mskiprows\u001b[0m\u001b[0;34m,\u001b[0m \u001b[0musecols\u001b[0m\u001b[0;34m=\u001b[0m\u001b[0musecols\u001b[0m\u001b[0;34m,\u001b[0m\u001b[0;34m\u001b[0m\u001b[0;34m\u001b[0m\u001b[0m\n\u001b[1;32m   1375\u001b[0m                 \u001b[0munpack\u001b[0m\u001b[0;34m=\u001b[0m\u001b[0munpack\u001b[0m\u001b[0;34m,\u001b[0m \u001b[0mndmin\u001b[0m\u001b[0;34m=\u001b[0m\u001b[0mndmin\u001b[0m\u001b[0;34m,\u001b[0m \u001b[0mencoding\u001b[0m\u001b[0;34m=\u001b[0m\u001b[0mencoding\u001b[0m\u001b[0;34m,\u001b[0m\u001b[0;34m\u001b[0m\u001b[0;34m\u001b[0m\u001b[0m\n",
            "\u001b[0;32m/usr/local/lib/python3.10/dist-packages/numpy/lib/npyio.py\u001b[0m in \u001b[0;36m_read\u001b[0;34m(fname, delimiter, comment, quote, imaginary_unit, usecols, skiplines, max_rows, converters, ndmin, unpack, dtype, encoding)\u001b[0m\n\u001b[1;32m    990\u001b[0m             \u001b[0mfname\u001b[0m \u001b[0;34m=\u001b[0m \u001b[0mos\u001b[0m\u001b[0;34m.\u001b[0m\u001b[0mfspath\u001b[0m\u001b[0;34m(\u001b[0m\u001b[0mfname\u001b[0m\u001b[0;34m)\u001b[0m\u001b[0;34m\u001b[0m\u001b[0;34m\u001b[0m\u001b[0m\n\u001b[1;32m    991\u001b[0m         \u001b[0;32mif\u001b[0m \u001b[0misinstance\u001b[0m\u001b[0;34m(\u001b[0m\u001b[0mfname\u001b[0m\u001b[0;34m,\u001b[0m \u001b[0mstr\u001b[0m\u001b[0;34m)\u001b[0m\u001b[0;34m:\u001b[0m\u001b[0;34m\u001b[0m\u001b[0;34m\u001b[0m\u001b[0m\n\u001b[0;32m--> 992\u001b[0;31m             \u001b[0mfh\u001b[0m \u001b[0;34m=\u001b[0m \u001b[0mnp\u001b[0m\u001b[0;34m.\u001b[0m\u001b[0mlib\u001b[0m\u001b[0;34m.\u001b[0m\u001b[0m_datasource\u001b[0m\u001b[0;34m.\u001b[0m\u001b[0mopen\u001b[0m\u001b[0;34m(\u001b[0m\u001b[0mfname\u001b[0m\u001b[0;34m,\u001b[0m \u001b[0;34m'rt'\u001b[0m\u001b[0;34m,\u001b[0m \u001b[0mencoding\u001b[0m\u001b[0;34m=\u001b[0m\u001b[0mencoding\u001b[0m\u001b[0;34m)\u001b[0m\u001b[0;34m\u001b[0m\u001b[0;34m\u001b[0m\u001b[0m\n\u001b[0m\u001b[1;32m    993\u001b[0m             \u001b[0;32mif\u001b[0m \u001b[0mencoding\u001b[0m \u001b[0;32mis\u001b[0m \u001b[0;32mNone\u001b[0m\u001b[0;34m:\u001b[0m\u001b[0;34m\u001b[0m\u001b[0;34m\u001b[0m\u001b[0m\n\u001b[1;32m    994\u001b[0m                 \u001b[0mencoding\u001b[0m \u001b[0;34m=\u001b[0m \u001b[0mgetattr\u001b[0m\u001b[0;34m(\u001b[0m\u001b[0mfh\u001b[0m\u001b[0;34m,\u001b[0m \u001b[0;34m'encoding'\u001b[0m\u001b[0;34m,\u001b[0m \u001b[0;34m'latin1'\u001b[0m\u001b[0;34m)\u001b[0m\u001b[0;34m\u001b[0m\u001b[0;34m\u001b[0m\u001b[0m\n",
            "\u001b[0;32m/usr/local/lib/python3.10/dist-packages/numpy/lib/_datasource.py\u001b[0m in \u001b[0;36mopen\u001b[0;34m(path, mode, destpath, encoding, newline)\u001b[0m\n\u001b[1;32m    191\u001b[0m \u001b[0;34m\u001b[0m\u001b[0m\n\u001b[1;32m    192\u001b[0m     \u001b[0mds\u001b[0m \u001b[0;34m=\u001b[0m \u001b[0mDataSource\u001b[0m\u001b[0;34m(\u001b[0m\u001b[0mdestpath\u001b[0m\u001b[0;34m)\u001b[0m\u001b[0;34m\u001b[0m\u001b[0;34m\u001b[0m\u001b[0m\n\u001b[0;32m--> 193\u001b[0;31m     \u001b[0;32mreturn\u001b[0m \u001b[0mds\u001b[0m\u001b[0;34m.\u001b[0m\u001b[0mopen\u001b[0m\u001b[0;34m(\u001b[0m\u001b[0mpath\u001b[0m\u001b[0;34m,\u001b[0m \u001b[0mmode\u001b[0m\u001b[0;34m,\u001b[0m \u001b[0mencoding\u001b[0m\u001b[0;34m=\u001b[0m\u001b[0mencoding\u001b[0m\u001b[0;34m,\u001b[0m \u001b[0mnewline\u001b[0m\u001b[0;34m=\u001b[0m\u001b[0mnewline\u001b[0m\u001b[0;34m)\u001b[0m\u001b[0;34m\u001b[0m\u001b[0;34m\u001b[0m\u001b[0m\n\u001b[0m\u001b[1;32m    194\u001b[0m \u001b[0;34m\u001b[0m\u001b[0m\n\u001b[1;32m    195\u001b[0m \u001b[0;34m\u001b[0m\u001b[0m\n",
            "\u001b[0;32m/usr/local/lib/python3.10/dist-packages/numpy/lib/_datasource.py\u001b[0m in \u001b[0;36mopen\u001b[0;34m(self, path, mode, encoding, newline)\u001b[0m\n\u001b[1;32m    531\u001b[0m                                       encoding=encoding, newline=newline)\n\u001b[1;32m    532\u001b[0m         \u001b[0;32melse\u001b[0m\u001b[0;34m:\u001b[0m\u001b[0;34m\u001b[0m\u001b[0;34m\u001b[0m\u001b[0m\n\u001b[0;32m--> 533\u001b[0;31m             \u001b[0;32mraise\u001b[0m \u001b[0mFileNotFoundError\u001b[0m\u001b[0;34m(\u001b[0m\u001b[0;34mf\"{path} not found.\"\u001b[0m\u001b[0;34m)\u001b[0m\u001b[0;34m\u001b[0m\u001b[0;34m\u001b[0m\u001b[0m\n\u001b[0m\u001b[1;32m    534\u001b[0m \u001b[0;34m\u001b[0m\u001b[0m\n\u001b[1;32m    535\u001b[0m \u001b[0;34m\u001b[0m\u001b[0m\n",
            "\u001b[0;31mFileNotFoundError\u001b[0m: gene_expression_data.txt not found."
          ]
        }
      ]
    },
    {
      "cell_type": "markdown",
      "source": [
        "## Con Datos de Verdad\n",
        "\n",
        "> Agregar bloque entrecomillado\n",
        "\n"
      ],
      "metadata": {
        "id": "vIhMdLNhp3R_"
      }
    },
    {
      "cell_type": "code",
      "source": [
        "import numpy as np\n",
        "import pandas as pd\n",
        "\n",
        "# Definir los nombres de los archivos\n",
        "files = ['/content/GSM4074291_PS1448A-WT-MM1.counts.txt', '/content/GSM4074292_PS1448A-WT-MM2.counts.txt', '/content/GSM4074293_lon-MM1.counts.txt']\n",
        "\n",
        "# Leer los archivos en un DataFrame de pandas\n",
        "dfs = [pd.read_csv(file, sep='\\t', skiprows=1, index_col=0) for file in files]\n",
        "\n",
        "# Combinar los datos en un solo DataFrame\n",
        "data = pd.concat(dfs, axis=1)\n",
        "\n",
        "# Verifica el número de columnas\n",
        "print(f\"Número de columnas en el DataFrame: {data.shape[1]}\")\n",
        "\n",
        "# Asignar nombres de columnas solo si el número coincide\n",
        "if data.shape[1] == 3:\n",
        "    data.columns = ['WT-1', 'WT-2', 'lon-1']\n",
        "else:\n",
        "    print(\"El número de columnas no coincide con el número esperado de muestras.\")\n",
        "    print(\"Las columnas actuales son:\", data.columns)\n",
        "\n",
        "print(data.head())\n",
        "# Renombrar las columnas manualmente\n",
        "data.columns = ['WT-1_rep1', 'WT-1_rep2', 'WT-1_rep3',\n",
        "                'WT-2_rep1', 'WT-2_rep2', 'WT-2_rep3',\n",
        "                'lon-1_rep1', 'lon-1_rep2', 'lon-1_rep3']\n",
        "\n",
        "print(data.head())\n",
        "\n",
        "\n"
      ],
      "metadata": {
        "id": "DKgUkcImp7Ez"
      },
      "execution_count": null,
      "outputs": []
    },
    {
      "cell_type": "markdown",
      "source": [
        "Ahora que tienes tus datos combinados en un DataFrame, puedes proceder con el análisis de expresión génica. Para este análisis, calcularemos los cambios en la expresión génica entre las condiciones de tipo salvaje (WT) y la mutante (lon)."
      ],
      "metadata": {
        "id": "DjjJ-22Wv4_X"
      }
    },
    {
      "cell_type": "markdown",
      "source": [
        "## Cálculo de la expresión diferencial\n",
        "\n",
        "Primero, calcularemos el log2 fold change (log2FC) entre las condiciones WT y lon. Esto nos permitirá identificar los genes que están regulados hacia arriba o hacia abajo en la cepa mutante.\n",
        "\n"
      ],
      "metadata": {
        "id": "1Munv9tYvouN"
      }
    },
    {
      "cell_type": "code",
      "source": [
        "# Promediar las réplicas para cada condición\n",
        "data['WT-1'] = data[['WT-1_rep1', 'WT-1_rep2', 'WT-1_rep3']].mean(axis=1)\n",
        "data['WT-2'] = data[['WT-2_rep1', 'WT-2_rep2', 'WT-2_rep3']].mean(axis=1)\n",
        "data['lon-1'] = data[['lon-1_rep1', 'lon-1_rep2', 'lon-1_rep3']].mean(axis=1)\n",
        "\n",
        "# Calcular el log2 fold change (log2FC)\n",
        "data['log2FC'] = np.log2(data['lon-1'] / data[['WT-1', 'WT-2']].mean(axis=1))\n",
        "\n",
        "# Cálculo del p-valor (simulado para este ejemplo)\n",
        "data['p_value'] = np.random.rand(data.shape[0])\n",
        "\n",
        "# Visualización de los resultados\n",
        "print(data[['log2FC', 'p_value']].head())\n"
      ],
      "metadata": {
        "id": "uf0ktb2pqs0o"
      },
      "execution_count": null,
      "outputs": []
    },
    {
      "cell_type": "code",
      "source": [
        "# Promediar las réplicas para cada condición\n",
        "data['WT-1'] = data[['WT-1_rep1', 'WT-1_rep2', 'WT-1_rep3']].mean(axis=1)\n",
        "data['WT-2'] = data[['WT-2_rep1', 'WT-2_rep2', 'WT-2_rep3']].mean(axis=1)\n",
        "data['lon-1'] = data[['lon-1_rep1', 'lon-1_rep2', 'lon-1_rep3']].mean(axis=1)\n",
        "\n",
        "# Calcular el log2 fold change (log2FC)\n",
        "data['log2FC'] = np.log2(data['lon-1'] / data[['WT-1', 'WT-2']].mean(axis=1))\n",
        "\n",
        "# Cálculo del p-valor (simulado para este ejemplo)\n",
        "data['p_value'] = np.random.rand(data.shape[0])\n",
        "\n",
        "# Visualización de los resultados\n",
        "print(data[['log2FC', 'p_value']].head())\n"
      ],
      "metadata": {
        "id": "QcJFz28KsRxY"
      },
      "execution_count": null,
      "outputs": []
    },
    {
      "cell_type": "code",
      "source": [
        "import matplotlib.pyplot as plt\n",
        "import seaborn as sns\n",
        "\n",
        "# Establecer estilo\n",
        "sns.set(style=\"whitegrid\")\n",
        "\n",
        "# Crear la gráfica de volcán\n",
        "plt.figure(figsize=(10, 8))\n",
        "sns.scatterplot(x='log2FC', y=-np.log10(data['p_value']), data=data,\n",
        "                hue=data['log2FC'].abs() > 1, palette={True: 'red', False: 'blue'},\n",
        "                edgecolor=None)\n",
        "\n",
        "# Líneas de referencia para significancia\n",
        "plt.axhline(y=-np.log10(0.05), color='gray', linestyle='--', lw=1)  # p-valor significativo\n",
        "plt.axvline(x=1, color='gray', linestyle='--', lw=1)  # log2FC significativo positivo\n",
        "plt.axvline(x=-1, color='gray', linestyle='--', lw=1)  # log2FC significativo negativo\n",
        "\n",
        "# Añadir etiquetas y título\n",
        "plt.xlabel('log2 Fold Change')\n",
        "plt.ylabel('-log10(p-value)')\n",
        "plt.title('Gráfica de Volcán')\n",
        "\n",
        "# Ajustar la leyenda\n",
        "plt.legend(title='Significativo', loc='upper right')\n",
        "\n",
        "# Mostrar la gráfica\n",
        "plt.show()\n"
      ],
      "metadata": {
        "id": "bjtwMB_3sg1L"
      },
      "execution_count": null,
      "outputs": []
    },
    {
      "cell_type": "markdown",
      "source": [
        "Gráfica de Volcán para visualizar los Datos\n",
        "\n",
        "> Este tipo de gráfico es útil para identificar genes que están significativamente expresados entre las condiciones.\n"
      ],
      "metadata": {
        "id": "6h74zuEJsut7"
      }
    },
    {
      "cell_type": "markdown",
      "source": [
        "Se crea una gráfica de dispersión donde x es el log2 fold change y y es -log10 del p-valor, lo que resalta los genes más significativos. Y...\n",
        "\n",
        "Se añaden líneas para indicar umbrales comunes de significancia tanto en log2FC como en p-valor. Los puntos con un log2FC mayor que 1 o menor que -1 se colorean en rojo para indicar que son cambios significativos en la expresión génica"
      ],
      "metadata": {
        "id": "hOCmQVpTta0I"
      }
    },
    {
      "cell_type": "markdown",
      "source": [],
      "metadata": {
        "id": "m52lhQ79us-E"
      }
    },
    {
      "cell_type": "markdown",
      "source": [
        "En este ejemplo, el cálculo del log2FC nos da una idea de cómo cambia la expresión génica entre las condiciones experimentales. Los p-valores son simulados, pero en un análisis real, necesitarías usar métodos como DESeq2 o edgeR en R, o utilizar herramientas como limma o voom en Python para obtener p-valores más precisos."
      ],
      "metadata": {
        "id": "5woc-hFDvNo2"
      }
    },
    {
      "cell_type": "code",
      "source": [
        "Este anáñlisis en teoría, te permitirá identificar los genes que podrían estat regulados por la proteína Lon en Pseudomonas savastonoi pv..-- bajo condiciones experimentales descritas en el artículo"
      ],
      "metadata": {
        "id": "D0lqpLLatnEr"
      },
      "execution_count": null,
      "outputs": []
    }
  ]
}